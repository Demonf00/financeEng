{
 "cells": [
  {
   "cell_type": "code",
   "execution_count": 13,
   "metadata": {},
   "outputs": [],
   "source": [
    "import math\n",
    "import spicy\n",
    "import pandas as pd\n",
    "import yfinance as yf\n",
    "import matplotlib.pyplot as plt\n",
    "\n",
    "from scipy.optimize import linprog"
   ]
  },
  {
   "cell_type": "markdown",
   "metadata": {},
   "source": [
    "\n",
    "Problem 1\n",
    "Part 1\n",
    "\n",
    "\n",
    "Suppose we buy $ x_1, x_2, x_3, x_4, x_5, x_6, x_7, x_8, x_9, x_{10}, x_{11}, x_{12} $ shares of bond1 to bond12 respectively. And suppose we could carry $z_0$ money from year 0 to year 1, that is instead of buying the bond in year 0, we keep the money and use it in year 1. Similarly, we hvae $z_i$ means we carry $z_i$ money from year i to year i+1, and we define $z_0$ to $z_6$ here. Also, we have forward rate $f_{0,1}, f_{1,2}, f_{2,3}, f_{3,4}, f_{4,5}, f_{5,6}$ represents to the forward rate $f_{i,j}$ from year i to year j. And now, we could have the models below:\n",
    "\n",
    "\n",
    "$$\n",
    "10x_1 + 7x_2 + 8x_3 + 6x_4 + 7x_5 + 6x_6 + 5x_7 + 10x_8 + 8x_9 + 6x_{10} + 10 x_{11} + 7x_{12} + z_0 * (1+f_{0,1}) - z_1 \\geq 500\n",
    "$$\n",
    "$$\n",
    "10x_1 + 7x_2 + 8x_3 + 6x_4 + 7x_5 + 6x_6 + 5x_7 + 10x_8 + 8x_9 + 6x_{10} + 110 x_{11} + 107x_{12} + z_1 * (1+f_{1,2})  - z_2 \\geq 200\n",
    "$$\n",
    "$$\n",
    "10x_1 + 7x_2 + 8x_3 + 6x_4 + 7x_5 + 6x_6 + 5x_7 + 110x_8 + 108x_9 + 106x_{10} + z_2 * (1+f_{2,3})  - z_3 \\geq 800\n",
    "$$\n",
    "$$\n",
    "10x_1 + 7x_2 + 8x_3 + 6x_4 + 7x_5 + 106x_6 + 105x_7 + z_3 * (1+f_{3,4})  - z_4 \\geq 200\n",
    "$$\n",
    "$$\n",
    "10x_1 + 7x_2 + 8x_3 + 106x_4 + 107x_5 + z_4 * (1+f_{4,5})  - z_5 \\geq 800\n",
    "$$\n",
    "$$\n",
    "110x_1 + 107x_2 + 108x_3 + z_5 * (1+f_{5,6}) \\geq 1200\n",
    "$$\n",
    "$$\n",
    "x_1 \\geq 0, x_2 \\geq 0, x_3 \\geq 0, x_4 \\geq 0, x_5 \\geq 0, x_6 \\geq 0, x_7 \\geq 0, x_8 \\geq 0, x_9 \\geq 0, x_{10} \\geq 0, x_{11} \\geq 0, x_{12} \\geq 0\n",
    "$$\n",
    "$$\n",
    "z_0 \\geq 0, z_1 \\geq 0, z_2 \\geq 0, z_3 \\geq 0, z_4 \\geq 0, z_5 \\geq 0\n",
    "$$\n",
    "\n",
    "\n",
    "And we could easily get $f_{i,j} = (\\frac{(1+s_j)^j}{(1+s_i)^i})^{\\frac{1}{j - i}} - 1$:"
   ]
  },
  {
   "cell_type": "code",
   "execution_count": 14,
   "metadata": {},
   "outputs": [
    {
     "name": "stdout",
     "output_type": "stream",
     "text": [
      "1.0504 1.0684771134805786 1.0720500188162407 1.0967812688870346 1.1077734562606916 1.109249731433675\n"
     ]
    }
   ],
   "source": [
    "def forwardRate (s, i, j):\n",
    "    sj = (1+s[j - 1])**j\n",
    "    si = (1+s[i - 1])**i\n",
    "    fij = (sj/si)**(1/(j-i)) - 1\n",
    "    return fij\n",
    "\n",
    "spotRates = [5.04/100, 5.94/100, 6.36/100, 7.18/100, 7.89/100, 8.39/100]\n",
    "f01 = spotRates[0] + 1\n",
    "f12 = forwardRate (spotRates, 1, 2) + 1\n",
    "f23 = forwardRate (spotRates, 2, 3) + 1\n",
    "f34 = forwardRate (spotRates, 3, 4) + 1\n",
    "f45 = forwardRate (spotRates, 4, 5) + 1\n",
    "f56 = forwardRate (spotRates, 5, 6) + 1\n",
    "\n",
    "print(f01, f12, f23, f34 , f45, f56)"
   ]
  },
  {
   "cell_type": "markdown",
   "metadata": {},
   "source": [
    "And then we use the model above, getting the matrix below:"
   ]
  },
  {
   "cell_type": "code",
   "execution_count": 15,
   "metadata": {},
   "outputs": [
    {
     "name": "stdout",
     "output_type": "stream",
     "text": [
      "[[-10, -7, -8, -6, -7, -6, -5, -10, -8, -6, -10, -7, -1.0504, 1, 0, 0, 0, 0], [-10, -7, -8, -6, -7, -6, -5, -10, -8, -6, -110, -107, 0, -1.0684771134805786, 1, 0, 0, 0], [-10, -7, -8, -6, -7, -6, -5, -110, -108, -106, 0, 0, 0, 0, -1.0720500188162407, 1, 0, 0], [-10, -7, -8, -6, -7, -106, -105, 0, 0, 0, 0, 0, 0, 0, 0, -1.0967812688870346, 1, 0], [-10, -7, -8, -106, -107, 0, 0, 0, 0, 0, 0, 0, 0, 0, 0, 0, -1.1077734562606916, 1], [-110, -107, -108, 0, 0, 0, 0, 0, 0, 0, 0, 0, 0, 0, 0, 0, 0, -1.109249731433675]]\n",
      "Optimal value: 2745.5803945262583\n",
      "Optimal solution: [   0.            0.            0.            0.            0.\n",
      "    0.            0.            0.            0.            0.\n",
      "   23.28247344    0.          254.35573648    0.         2361.07207836\n",
      " 1731.18736603 1698.733876   1081.81229708]\n"
     ]
    }
   ],
   "source": [
    "c = [109, 94.8, 99.5, 93.1, 97.2, 96.3, 92.9, 110, 104, 101, 107, 102, 1, 0, 0, 0, 0, 0]  # price for each bond and cash\n",
    "#     x1,  x2,  x3,   x4,   x5,   x6,   x7,   x8,   x9, x10, x11, x12,z0,z1,z2,z3,z4,z5\n",
    "\n",
    "# Inequality constraints (A_ub * x <= b_ub)\n",
    "A_ub = [[10, 7, 8, 6, 7, 6, 5, 10, 8, 6, 10, 7, f01, -1, 0, 0, 0, 0],\n",
    "        [10, 7, 8, 6, 7, 6, 5 , 10, 8, 6, 110, 107, 0, f12, -1, 0, 0, 0],\n",
    "        [10, 7, 8, 6, 7, 6, 5,  110, 108, 106,0,0,0, 0, f23, -1, 0, 0],\n",
    "        [10, 7, 8, 6, 7, 106, 105,0,0,0,0,0,0, 0, 0, f34, -1, 0],\n",
    "        [10, 7, 8, 106, 107,0,0,0,0,0,0,0, 0, 0,0, 0, f45, -1],\n",
    "        [110,107,108,0,0,0,0,0,0,0,0,0, 0, 0, 0,0, 0, f56]]\n",
    "b_ub = [500, 200, 800, 200, 800, 1200]\n",
    "\n",
    "\n",
    "# reverse the matrix since we need >=\n",
    "for i in range(0, len(A_ub)):\n",
    "    for j in range(0, len(A_ub[i])):\n",
    "        A_ub[i][j] = -A_ub[i][j]\n",
    "\n",
    "for i in range(0, len(b_ub)):\n",
    "    b_ub[i] = -b_ub[i]\n",
    "    \n",
    "print(A_ub)\n",
    "\n",
    "# Bounds for xi and zi\n",
    "x_bounds = [(0, None), (0, None), (0, None), (0, None), (0, None), (0, None), (0, None), (0, None), (0, None), (0, None), (0, None), (0, None), (0, None), (0, None), (0, None), (0, None), (0, None), (0, None)]  # x1 >= 0, x2 >= 0\n",
    "\n",
    "# Solve the linear program\n",
    "result = linprog(c, A_ub=A_ub, b_ub=b_ub, bounds=x_bounds, method='highs')\n",
    "\n",
    "# Display results\n",
    "if result.success:\n",
    "    print(\"Optimal value:\", result.fun)\n",
    "    print(\"Optimal solution:\", result.x)\n",
    "else:\n",
    "    print(\"Optimization failed:\", result.message)"
   ]
  },
  {
   "cell_type": "markdown",
   "metadata": {},
   "source": [
    "(b)\n",
    "\n",
    "We need make sure the number of units of Bond 2 and Bond 3 are restricted to no more than 5% of the total units of bonds\n",
    "Thus, we have:\n",
    "$$\n",
    "\\frac{5}{100}(x_1 + x_2 + x_3 + x_4 + x_5 + x_6 + x_7 + x_8 + x_9 + x_{10} + x_{11} + x_{12}) \\geq x_2\n",
    "$$\n",
    "$$\n",
    "\\frac{5}{100}(x_1 + x_2 + x_3 + x_4 + x_5 + x_6 + x_7 + x_8 + x_9 + x_{10} + x_{11} + x_{12}) \\geq x_3\n",
    "$$\n",
    "\n",
    "Move x2, x3 to LHS, easily we get 2 more constraints:\n",
    "$$\n",
    "\\frac{5}{100}(x_1 + x_3 + x_4 + x_5 + x_6 + x_7 + x_8 + x_9 + x_{10} + x_{11} + x_{12}) - \\frac{95}{100}x_2 \\geq 0\n",
    "$$\n",
    "$$\n",
    "\\frac{5}{100}(x_1 + x_3 + x_4 + x_5 + x_6 + x_7 + x_8 + x_9 + x_{10} + x_{11} + x_{12}) - \\frac{95}{100}x_3 \\geq 0\n",
    "$$\n",
    "\n",
    "So adding these 2 into our code, we get the new matrix:"
   ]
  },
  {
   "cell_type": "code",
   "execution_count": 16,
   "metadata": {},
   "outputs": [
    {
     "name": "stdout",
     "output_type": "stream",
     "text": [
      "[[-10, -7, -8, -6, -7, -6, -5, -10, -8, -6, -10, -7, -1.0504, 1, 0, 0, 0, 0], [-10, -7, -8, -6, -7, -6, -5, -10, -8, -6, -110, -107, 0, -1.0684771134805786, 1, 0, 0, 0], [-10, -7, -8, -6, -7, -6, -5, -110, -108, -106, 0, 0, 0, 0, -1.0720500188162407, 1, 0, 0], [-10, -7, -8, -6, -7, -106, -105, 0, 0, 0, 0, 0, 0, 0, 0, -1.0967812688870346, 1, 0], [-10, -7, -8, -106, -107, 0, 0, 0, 0, 0, 0, 0, 0, 0, 0, 0, -1.1077734562606916, 1], [-110, -107, -108, 0, 0, 0, 0, 0, 0, 0, 0, 0, 0, 0, 0, 0, 0, -1.109249731433675], [-0.05, 0.95, -0.05, -0.05, -0.05, -0.05, -0.05, -0.05, -0.05, -0.05, -0.05, -0.05, 0, 0, 0, 0, 0, 0], [-0.05, -0.05, 0.95, -0.05, -0.05, -0.05, -0.05, -0.05, -0.05, -0.05, -0.05, -0.05, 0, 0, 0, 0, 0, 0]]\n",
      "Optimal value: 2745.5803945262583\n",
      "Optimal solution: [   0.            0.            0.            0.            0.\n",
      "    0.            0.            0.            0.            0.\n",
      "   23.28247344    0.          254.35573648    0.         2361.07207836\n",
      " 1731.18736603 1698.733876   1081.81229708]\n"
     ]
    }
   ],
   "source": [
    "c = [109, 94.8, 99.5, 93.1, 97.2, 96.3, 92.9, 110, 104, 101, 107, 102, 1, 0, 0, 0, 0, 0]  # price for each bond and cash\n",
    "#     x1,  x2,  x3,   x4,   x5,   x6,   x7,   x8,   x9, x10, x11, x12,z0,z1,z2,z3,z4,z5\n",
    "\n",
    "# Inequality constraints (A_ub * x <= b_ub)\n",
    "A_ub = [[10, 7, 8, 6, 7, 6, 5, 10, 8, 6, 10, 7, f01, -1, 0, 0, 0, 0],\n",
    "        [10, 7, 8, 6, 7, 6, 5 , 10, 8, 6, 110, 107, 0, f12, -1, 0, 0, 0],\n",
    "        [10, 7, 8, 6, 7, 6, 5,  110, 108, 106,0,0,0, 0, f23, -1, 0, 0],\n",
    "        [10, 7, 8, 6, 7, 106, 105,0,0,0,0,0,0, 0, 0, f34, -1, 0],\n",
    "        [10, 7, 8, 106, 107,0,0,0,0,0,0,0, 0, 0,0, 0, f45, -1],\n",
    "        [110,107,108,0,0,0,0,0,0,0,0,0, 0, 0, 0,0, 0, f56],\n",
    "        [5/100,-95/100,5/100,5/100,5/100,5/100,5/100,5/100,5/100,5/100,5/100,5/100, 0, 0, 0,0, 0, 0],\n",
    "        [5/100,5/100,-95/100,5/100,5/100,5/100,5/100,5/100,5/100,5/100,5/100,5/100, 0, 0, 0,0, 0, 0]]\n",
    "b_ub = [500, 200, 800, 200, 800, 1200, 0, 0]\n",
    "\n",
    "\n",
    "# reverse the matrix since we need >=\n",
    "for i in range(0, len(A_ub)):\n",
    "    for j in range(0, len(A_ub[i])):\n",
    "        A_ub[i][j] = -A_ub[i][j]\n",
    "\n",
    "for i in range(0, len(b_ub)):\n",
    "    b_ub[i] = -b_ub[i]\n",
    "    \n",
    "print(A_ub)\n",
    "\n",
    "# Bounds for xi and zi\n",
    "x_bounds = [(0, None), (0, None), (0, None), (0, None), (0, None), (0, None), (0, None), (0, None), (0, None), (0, None), (0, None), (0, None), (0, None), (0, None), (0, None), (0, None), (0, None), (0, None)]  # x1 >= 0, x2 >= 0\n",
    "\n",
    "# Solve the linear program\n",
    "result = linprog(c, A_ub=A_ub, b_ub=b_ub, bounds=x_bounds, method='highs')\n",
    "\n",
    "# Display results\n",
    "if result.success:\n",
    "    print(\"Optimal value:\", result.fun)\n",
    "    print(\"Optimal solution:\", result.x)\n",
    "else:\n",
    "    print(\"Optimization failed:\", result.message)"
   ]
  },
  {
   "cell_type": "markdown",
   "metadata": {},
   "source": [
    "Part 2\n",
    "\n",
    "In order to have the immunization, we need the duration of return equal to the duration of the liabilities. Using the formula, we could get the PV and DD for the stream of liabilities:"
   ]
  },
  {
   "cell_type": "code",
   "execution_count": 22,
   "metadata": {},
   "outputs": [
    {
     "name": "stdout",
     "output_type": "stream",
     "text": [
      "2577.891416923946 9863.211578452068\n"
     ]
    }
   ],
   "source": [
    "def pv_liabilities(year, array):\n",
    "    sum = 0\n",
    "    for i in range(1, year + 1):\n",
    "        sum += array[i - 1]/((1 + spotRates[i - 1])**(i + 1))\n",
    "    return sum\n",
    "def dd_liabilities(year, array):\n",
    "    sum = 0\n",
    "    for i in range(1, year + 1):\n",
    "        sum += (i * array[i - 1])/((1 + spotRates[i - 1])**(i + 1))\n",
    "    return sum\n",
    "pv_liabilities = pv_liabilities(6, [500, 200, 800, 200, 800, 1200])\n",
    "dd_liabilities = dd_liabilities(6, [500, 200, 800, 200, 800, 1200])\n",
    "print(pv_liabilities, dd_liabilities)\n"
   ]
  },
  {
   "cell_type": "markdown",
   "metadata": {},
   "source": [
    "And we need these two equal to the PV and DD for our bonds portfolio and below we will count the PV and DD of our bonds, and create a new constraints for having them equal. And for A = B, we need A >= B and -A >= -B"
   ]
  },
  {
   "cell_type": "code",
   "execution_count": 41,
   "metadata": {},
   "outputs": [
    {
     "name": "stdout",
     "output_type": "stream",
     "text": [
      "Optimal value: 2993.3522544769075\n",
      "Optimal solution: [ 14.3767925    0.           0.           0.           0.\n",
      "   0.           0.           8.70456519   0.           0.\n",
      "   2.1800339    0.         235.51607399   0.         270.61730545\n",
      " 591.38538372 592.38833654   0.        ]\n"
     ]
    }
   ],
   "source": [
    "bonds = [\n",
    "    [10, 10, 10, 10, 10, 110],\n",
    "    [7, 7, 7, 7, 7, 107],\n",
    "    [8, 8, 8, 8, 8, 108],\n",
    "    [6, 6, 6, 6, 106, 0],\n",
    "    [7, 7, 7, 7, 107, 0],\n",
    "    [6, 6, 6, 106, 0, 0],\n",
    "    [5, 5, 5, 105, 0, 0],\n",
    "    [10, 10, 110, 0, 0, 0],\n",
    "    [8, 8, 108, 0, 0, 0],\n",
    "    [6, 6, 106, 0, 0, 0],\n",
    "    [10, 110, 0, 0, 0, 0],\n",
    "    [7, 107, 0, 0, 0, 0]]\n",
    "def pv_bond(minus=1):\n",
    "    pv_bond = []\n",
    "    for bond in bonds:\n",
    "        pv = 0\n",
    "        for t, payment in enumerate(bond, start=1):\n",
    "            if payment != 0:\n",
    "                pv += payment / ((1 + spotRates[t - 1]) ** (t + 1))\n",
    "        pv_bond.append(pv*minus)\n",
    "    return pv_bond\n",
    "\n",
    "def dd_bond(minus=1):\n",
    "    dd_bond = []\n",
    "    for bond in bonds:\n",
    "        dd = 0\n",
    "        for t, payment in enumerate(bond, start=1):\n",
    "            if payment != 0:\n",
    "                dd += (t * payment) / ((1 + spotRates[t - 1]) ** (t + 1))\n",
    "        dd_bond.append(dd*minus)\n",
    "    return dd_bond\n",
    "\n",
    "c = [109, 94.8, 99.5, 93.1, 97.2, 96.3, 92.9, 110, 104, 101, 107, 102, 1, 0, 0, 0, 0, 0] \n",
    "\n",
    "A_ub = [[10, 7, 8, 6, 7, 6, 5, 10, 8, 6, 10, 7, f01, -1, 0, 0, 0, 0],\n",
    "        [10, 7, 8, 6, 7, 6, 5 , 10, 8, 6, 110, 107, 0, f12, -1, 0, 0, 0],\n",
    "        [10, 7, 8, 6, 7, 6, 5,  110, 108, 106,0,0,0, 0, f23, -1, 0, 0],\n",
    "        [10, 7, 8, 6, 7, 106, 105,0,0,0,0,0,0, 0, 0, f34, -1, 0],\n",
    "        [10, 7, 8, 106, 107,0,0,0,0,0,0,0, 0, 0,0, 0, f45, -1],\n",
    "        [110,107,108,0,0,0,0,0,0,0,0,0, 0, 0, 0,0, 0, f56],\n",
    "        [5/100,-95/100,5/100,5/100,5/100,5/100,5/100,5/100,5/100,5/100,5/100,5/100, 0, 0, 0,0, 0, 0],\n",
    "        [5/100,5/100,-95/100,5/100,5/100,5/100,5/100,5/100,5/100,5/100,5/100,5/100, 0, 0, 0,0, 0, 0]]\n",
    "b_ub = [500, 200, 800, 200, 800, 1200, 0, 0]\n",
    "\n",
    "x_bounds = [(0, None), (0, None), (0, None), (0, None), (0, None), (0, None), (0, None), (0, None), (0, None), (0, None), (0, None), (0, None), (0, None), (0, None), (0, None), (0, None), (0, None), (0, None)]\n",
    "\n",
    "pvb = pv_bond(1) + [0,0,0,0,0,0]\n",
    "ddb = dd_bond(1) + [0,0,0,0,0,0]\n",
    "A_ub.append(pvb)\n",
    "A_ub.append(ddb)\n",
    "pvb = pv_bond(-1) + [0,0,0,0,0,0]\n",
    "ddb = dd_bond(-1) + [0,0,0,0,0,0]\n",
    "A_ub.append(pvb)\n",
    "A_ub.append(ddb)\n",
    "b_ub.append(pv_liabilities)\n",
    "b_ub.append(dd_liabilities)\n",
    "b_ub.append(-pv_liabilities)\n",
    "b_ub.append(-dd_liabilities)\n",
    "\n",
    "for i in range(0, len(A_ub)):\n",
    "    for j in range(0, len(A_ub[i])):\n",
    "        A_ub[i][j] = -A_ub[i][j]\n",
    "\n",
    "for i in range(0, len(b_ub)):\n",
    "    b_ub[i] = -b_ub[i]\n",
    "\n",
    "# Solve the linear program\n",
    "result = linprog(c, A_ub=A_ub, b_ub=b_ub, bounds=x_bounds, method='highs')\n",
    "\n",
    "# Display results\n",
    "if result.success:\n",
    "    print(\"Optimal value:\", result.fun)\n",
    "    print(\"Optimal solution:\", result.x)\n",
    "else:\n",
    "    print(\"Optimization failed:\", result.message)"
   ]
  },
  {
   "cell_type": "markdown",
   "metadata": {},
   "source": [
    "Problem 2\n",
    "\n",
    "Part1\n",
    "(a) First we get the prices data from library:"
   ]
  },
  {
   "cell_type": "code",
   "execution_count": 24,
   "metadata": {},
   "outputs": [
    {
     "name": "stderr",
     "output_type": "stream",
     "text": [
      "[*********************100%***********************]  3 of 3 completed"
     ]
    },
    {
     "name": "stdout",
     "output_type": "stream",
     "text": [
      "Expected Returns:\n",
      "Ticker\n",
      "EEMV    0.005016\n",
      "GOVT    0.000560\n",
      "SPY     0.012785\n",
      "dtype: float64\n",
      "\n",
      "Standard Deviations:\n",
      "Ticker\n",
      "EEMV    0.036114\n",
      "GOVT    0.014858\n",
      "SPY     0.045459\n",
      "dtype: float64\n",
      "\n",
      "Covariance Matrix:\n",
      "Ticker      EEMV      GOVT       SPY\n",
      "Ticker                              \n",
      "EEMV    0.001304  0.000138  0.001165\n",
      "GOVT    0.000138  0.000221  0.000127\n",
      "SPY     0.001165  0.000127  0.002067\n"
     ]
    },
    {
     "name": "stderr",
     "output_type": "stream",
     "text": [
      "\n"
     ]
    }
   ],
   "source": [
    "stocks = ['SPY', 'GOVT', 'EEMV']\n",
    "data = yf.download(stocks, start='2016-01-01', end='2024-10-31', interval='1mo')['Adj Close']\n",
    "# print(data)\n",
    "# Calculate monthly returns\n",
    "returns = data.pct_change().dropna()\n",
    "# print(returns)\n",
    "expected_returns = returns.mean()\n",
    "std_devs = returns.std()\n",
    "cov_matrix = returns.cov()\n",
    "# Display expected returns, standard deviations, and covariances\n",
    "print(\"Expected Returns:\")\n",
    "print(expected_returns)\n",
    "print(\"\\nStandard Deviations:\")\n",
    "print(std_devs)\n",
    "print(\"\\nCovariance Matrix:\")\n",
    "print(cov_matrix)"
   ]
  },
  {
   "cell_type": "markdown",
   "metadata": {},
   "source": [
    "(b) "
   ]
  },
  {
   "cell_type": "code",
   "execution_count": null,
   "metadata": {},
   "outputs": [],
   "source": []
  },
  {
   "cell_type": "markdown",
   "metadata": {},
   "source": [
    "Part 2\n"
   ]
  },
  {
   "cell_type": "code",
   "execution_count": null,
   "metadata": {},
   "outputs": [],
   "source": []
  }
 ],
 "metadata": {
  "kernelspec": {
   "display_name": "Python 3",
   "language": "python",
   "name": "python3"
  },
  "language_info": {
   "codemirror_mode": {
    "name": "ipython",
    "version": 3
   },
   "file_extension": ".py",
   "mimetype": "text/x-python",
   "name": "python",
   "nbconvert_exporter": "python",
   "pygments_lexer": "ipython3",
   "version": "3.11.2"
  }
 },
 "nbformat": 4,
 "nbformat_minor": 2
}
